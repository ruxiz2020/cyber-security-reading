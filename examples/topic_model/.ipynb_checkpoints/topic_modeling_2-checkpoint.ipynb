{
 "cells": [
  {
   "cell_type": "code",
   "execution_count": 1,
   "metadata": {},
   "outputs": [],
   "source": [
    "# 200 articles from medium.com\n",
    "\n",
    "# references:\n",
    "\n",
    "# https://github.com/MilaNLProc/contextualized-topic-models"
   ]
  },
  {
   "cell_type": "code",
   "execution_count": 2,
   "metadata": {},
   "outputs": [],
   "source": [
    "from contextualized_topic_models.models.ctm import CTM\n",
    "from contextualized_topic_models.utils.data_preparation import TextHandler\n",
    "from contextualized_topic_models.utils.data_preparation import bert_embeddings_from_file\n",
    "from contextualized_topic_models.datasets.dataset import CTMDataset"
   ]
  },
  {
   "cell_type": "code",
   "execution_count": 3,
   "metadata": {},
   "outputs": [],
   "source": [
    "handler = TextHandler(\"/Users/zruxi/cyber_security_reading/examples/topic_model/data/medium/using-game-theory-in-deception-strategy-for-cyber-security-lucideus-research-2f96103506ea.txt\")\n",
    "handler.prepare() # create vocabulary and training data"
   ]
  },
  {
   "cell_type": "code",
   "execution_count": null,
   "metadata": {},
   "outputs": [
    {
     "name": "stderr",
     "output_type": "stream",
     "text": [
      "  0%|          | 1.25M/504M [00:02<20:46, 403kB/s]"
     ]
    }
   ],
   "source": [
    "# generate BERT data\n",
    "training_bert = bert_embeddings_from_file(\"/Users/zruxi/cyber_security_reading/examples/topic_model/data/medium/using-game-theory-in-deception-strategy-for-cyber-security-lucideus-research-2f96103506ea.txt\", \n",
    "                                          \"distiluse-base-multilingual-cased\")\n",
    "\n",
    "training_dataset = CTMDataset(handler.bow, training_bert, handler.idx2token)\n",
    "\n",
    "ctm = CTM(input_size=len(handler.vocab), bert_input_size=512, inference_type=\"combined\", n_components=50)\n",
    "\n",
    "ctm.fit(training_dataset) # run the model"
   ]
  },
  {
   "cell_type": "code",
   "execution_count": null,
   "metadata": {},
   "outputs": [],
   "source": []
  }
 ],
 "metadata": {
  "kernelspec": {
   "display_name": "Python 3",
   "language": "python",
   "name": "python3"
  },
  "language_info": {
   "codemirror_mode": {
    "name": "ipython",
    "version": 3
   },
   "file_extension": ".py",
   "mimetype": "text/x-python",
   "name": "python",
   "nbconvert_exporter": "python",
   "pygments_lexer": "ipython3",
   "version": "3.7.4"
  }
 },
 "nbformat": 4,
 "nbformat_minor": 4
}
